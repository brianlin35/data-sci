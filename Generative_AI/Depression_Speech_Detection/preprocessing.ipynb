{
 "cells": [
  {
   "cell_type": "markdown",
   "metadata": {},
   "source": [
    "## Data Preprocessing"
   ]
  },
  {
   "cell_type": "code",
   "execution_count": 1,
   "metadata": {},
   "outputs": [],
   "source": [
    "import librosa\n",
    "import pandas as pd\n",
    "import numpy as np\n",
    "import matplotlib.pyplot as plt\n",
    "import IPython.display as ipd\n",
    "from IPython.display import Audio\n",
    "import os\n",
    "\n",
    "from sklearn.model_selection import train_test_split\n",
    "from sklearn.preprocessing import LabelEncoder\n",
    "from sklearn import ensemble\n",
    "from sklearn.metrics import accuracy_score\n",
    "from sklearn.metrics import confusion_matrix, confusion_matrix,roc_auc_score,recall_score,f1_score, ConfusionMatrixDisplay\n",
    "\n",
    "import tensorflow as tf\n",
    "from tensorflow.keras import layers, models, optimizers\n",
    "from tensorflow.keras.layers import Conv2D, MaxPooling2D, Flatten, Dense, Activation, Dropout\n",
    "from tensorflow.keras.models import Sequential\n",
    "\n",
    "from pyAudioAnalysis import ShortTermFeatures\n",
    "import opensmile\n",
    "import xgboost as xgb\n",
    "\n",
    "from pydub import AudioSegment\n",
    "import math\n",
    "import os"
   ]
  },
  {
   "cell_type": "markdown",
   "metadata": {},
   "source": [
    "#### Load in output labels and visualize class distribution"
   ]
  },
  {
   "cell_type": "code",
   "execution_count": 8,
   "metadata": {},
   "outputs": [
    {
     "data": {
      "text/html": [
       "<div>\n",
       "<style scoped>\n",
       "    .dataframe tbody tr th:only-of-type {\n",
       "        vertical-align: middle;\n",
       "    }\n",
       "\n",
       "    .dataframe tbody tr th {\n",
       "        vertical-align: top;\n",
       "    }\n",
       "\n",
       "    .dataframe thead th {\n",
       "        text-align: right;\n",
       "    }\n",
       "</style>\n",
       "<table border=\"1\" class=\"dataframe\">\n",
       "  <thead>\n",
       "    <tr style=\"text-align: right;\">\n",
       "      <th></th>\n",
       "      <th>Participant_ID</th>\n",
       "      <th>PHQ8_Binary</th>\n",
       "    </tr>\n",
       "  </thead>\n",
       "  <tbody>\n",
       "    <tr>\n",
       "      <th>0</th>\n",
       "      <td>303</td>\n",
       "      <td>0</td>\n",
       "    </tr>\n",
       "    <tr>\n",
       "      <th>1</th>\n",
       "      <td>304</td>\n",
       "      <td>0</td>\n",
       "    </tr>\n",
       "    <tr>\n",
       "      <th>2</th>\n",
       "      <td>305</td>\n",
       "      <td>0</td>\n",
       "    </tr>\n",
       "    <tr>\n",
       "      <th>3</th>\n",
       "      <td>310</td>\n",
       "      <td>0</td>\n",
       "    </tr>\n",
       "    <tr>\n",
       "      <th>4</th>\n",
       "      <td>312</td>\n",
       "      <td>0</td>\n",
       "    </tr>\n",
       "  </tbody>\n",
       "</table>\n",
       "</div>"
      ],
      "text/plain": [
       "   Participant_ID  PHQ8_Binary\n",
       "0             303            0\n",
       "1             304            0\n",
       "2             305            0\n",
       "3             310            0\n",
       "4             312            0"
      ]
     },
     "execution_count": 8,
     "metadata": {},
     "output_type": "execute_result"
    }
   ],
   "source": [
    "# load in output labels\n",
    "train_csv_file = pd.read_csv('./data/labels/train_split_Depression_AVEC2017.csv')[[\"Participant_ID\", \"PHQ8_Binary\"]]\n",
    "dev_csv_file = pd.read_csv('./data/labels/dev_split_Depression_AVEC2017.csv')[[\"Participant_ID\", \"PHQ8_Binary\"]]\n",
    "test_csv_file = pd.read_csv('./data/labels/full_test_split.csv')[[\"Participant_ID\", \"PHQ_Binary\"]].rename(columns={\"PHQ_Binary\":\"PHQ8_Binary\"})\n",
    "all_labels = pd.concat([train_csv_file, dev_csv_file, test_csv_file]).reset_index().drop(columns=[\"index\"])\n",
    "all_labels.head()"
   ]
  },
  {
   "cell_type": "code",
   "execution_count": 9,
   "metadata": {},
   "outputs": [
    {
     "data": {
      "image/png": "[encoded data removed]",
      "text/plain": [
       "<Figure size 1000x500 with 1 Axes>"
      ]
     },
     "metadata": {},
     "output_type": "display_data"
    }
   ],
   "source": [
    "# number of participants labelled as \"depressed\" vs \"nondepressed\"\n",
    "\n",
    "# get the label names and their frequency\n",
    "all_labels[\"output_label\"] = np.array([\"Depressed\" if x == 1 else \"Not Depressed\" for x in all_labels[\"PHQ8_Binary\"]])\n",
    "x_vals, y_vals = np.unique(all_labels[\"output_label\"], return_counts = True)\n",
    "\n",
    "# set up figure\n",
    "fig = plt.figure(figsize = (10, 5))\n",
    "\n",
    "# create bar plot\n",
    "plt.bar(x_vals, y_vals, color ='maroon', width=0.4)\n",
    "\n",
    "# make plot look nice\n",
    "plt.xlabel(\"Label Name\")\n",
    "plt.ylabel(\"Frequency\")\n",
    "plt.title(\"Class Distribution for Participants\")\n",
    "plt.show()"
   ]
  },
  {
   "cell_type": "markdown",
   "metadata": {},
   "source": [
    "#### Splice audio into shorter, equal lengthed sample clips and visualize the class distribution of the samples"
   ]
  },
  {
   "cell_type": "code",
   "execution_count": 10,
   "metadata": {},
   "outputs": [],
   "source": [
    "# function that reads in the wav file and returns a list of the shorter clips\n",
    "def split_audio_into_segments(input_file, segment_length_ms=10000, output_dir=\"segments\"):\n",
    "    \"\"\"\n",
    "    Split an audio file into equal segments of specified length.\n",
    "    \n",
    "    Parameters:\n",
    "    input_file (str): Path to input audio file\n",
    "    segment_length_ms (int): Length of each segment in milliseconds (default: 10000ms = 10s)\n",
    "    output_dir (str): Directory to save the segments (default: 'segments')\n",
    "    \n",
    "    Returns:\n",
    "    list: List of paths to the created segment files\n",
    "    \"\"\"\n",
    "    # Create output directory if it doesn't exist\n",
    "    if not os.path.exists(output_dir):\n",
    "        os.makedirs(output_dir)\n",
    "    \n",
    "    # Load the audio file\n",
    "    audio = AudioSegment.from_file(input_file)\n",
    "    \n",
    "    # Calculate duration and number of segments\n",
    "    duration_ms = len(audio)\n",
    "    num_segments = math.floor(duration_ms / segment_length_ms)\n",
    "    \n",
    "    segment_files = []\n",
    "    \n",
    "    # Split the audio into segments\n",
    "    for i in range(num_segments):\n",
    "        # Calculate start and end times for each segment\n",
    "        start_time = i * segment_length_ms\n",
    "        end_time = min((i + 1) * segment_length_ms, duration_ms)\n",
    "        \n",
    "        # Extract segment\n",
    "        segment = audio[start_time:end_time]\n",
    "        \n",
    "        # Generate output filename\n",
    "        filename = os.path.splitext(os.path.basename(input_file))[0]\n",
    "        output_path = os.path.join(output_dir, f\"{filename}_segment_{i+1}.mp3\")\n",
    "        \n",
    "        # Export segment\n",
    "        segment.export(output_path, format=\"mp3\")\n",
    "        segment_files.append(output_path)\n",
    "        \n",
    "    return segment_files"
   ]
  },
  {
   "cell_type": "code",
   "execution_count": 11,
   "metadata": {},
   "outputs": [
    {
     "data": {
      "text/html": [
       "<div>\n",
       "<style scoped>\n",
       "    .dataframe tbody tr th:only-of-type {\n",
       "        vertical-align: middle;\n",
       "    }\n",
       "\n",
       "    .dataframe tbody tr th {\n",
       "        vertical-align: top;\n",
       "    }\n",
       "\n",
       "    .dataframe thead th {\n",
       "        text-align: right;\n",
       "    }\n",
       "</style>\n",
       "<table border=\"1\" class=\"dataframe\">\n",
       "  <thead>\n",
       "    <tr style=\"text-align: right;\">\n",
       "      <th></th>\n",
       "      <th>Participant Number</th>\n",
       "      <th>Audio Path</th>\n",
       "      <th>Output Label</th>\n",
       "    </tr>\n",
       "  </thead>\n",
       "  <tbody>\n",
       "    <tr>\n",
       "      <th>0</th>\n",
       "      <td>304</td>\n",
       "      <td>segments/P304_no_silence_segment_1.mp3</td>\n",
       "      <td>Not Depressed</td>\n",
       "    </tr>\n",
       "    <tr>\n",
       "      <th>1</th>\n",
       "      <td>304</td>\n",
       "      <td>segments/P304_no_silence_segment_2.mp3</td>\n",
       "      <td>Not Depressed</td>\n",
       "    </tr>\n",
       "    <tr>\n",
       "      <th>2</th>\n",
       "      <td>304</td>\n",
       "      <td>segments/P304_no_silence_segment_3.mp3</td>\n",
       "      <td>Not Depressed</td>\n",
       "    </tr>\n",
       "    <tr>\n",
       "      <th>3</th>\n",
       "      <td>304</td>\n",
       "      <td>segments/P304_no_silence_segment_4.mp3</td>\n",
       "      <td>Not Depressed</td>\n",
       "    </tr>\n",
       "    <tr>\n",
       "      <th>4</th>\n",
       "      <td>304</td>\n",
       "      <td>segments/P304_no_silence_segment_5.mp3</td>\n",
       "      <td>Not Depressed</td>\n",
       "    </tr>\n",
       "  </tbody>\n",
       "</table>\n",
       "</div>"
      ],
      "text/plain": [
       "   Participant Number                              Audio Path   Output Label\n",
       "0                 304  segments/P304_no_silence_segment_1.mp3  Not Depressed\n",
       "1                 304  segments/P304_no_silence_segment_2.mp3  Not Depressed\n",
       "2                 304  segments/P304_no_silence_segment_3.mp3  Not Depressed\n",
       "3                 304  segments/P304_no_silence_segment_4.mp3  Not Depressed\n",
       "4                 304  segments/P304_no_silence_segment_5.mp3  Not Depressed"
      ]
     },
     "execution_count": 11,
     "metadata": {},
     "output_type": "execute_result"
    }
   ],
   "source": [
    "participants_col = []\n",
    "audio_col = []\n",
    "label_col = []\n",
    "\n",
    "dir_name = '../depression-detect/data/interim'\n",
    "\n",
    "# iterate through wav files in dir_name and create a segmented wav_file\n",
    "for folder in os.listdir(dir_name):\n",
    "    if len(folder) == 4:\n",
    "        folder_path = os.path.join(dir_name, folder)\n",
    "        participant_num = np.int64(folder[1:])\n",
    "        label = all_labels[all_labels[\"Participant_ID\"] == participant_num].reset_index()[\"output_label\"][0]\n",
    "        for file in os.listdir(folder_path):\n",
    "            if file.endswith('.wav'):\n",
    "                file_path = os.path.join(folder_path, file)\n",
    "                clips = split_audio_into_segments(file_path)\n",
    "                audio_col += clips\n",
    "                label_col += [label for i in range(len(clips))]\n",
    "                participants_col += [participant_num for i in range(len(clips))]\n",
    "\n",
    "full_df = pd.DataFrame(\n",
    "    data = {\n",
    "        \"Participant Number\" : participants_col,\n",
    "        \"Audio Path\": audio_col,\n",
    "        \"Output Label\": label_col}\n",
    ")\n",
    "full_df.head()"
   ]
  },
  {
   "cell_type": "code",
   "execution_count": 14,
   "metadata": {},
   "outputs": [],
   "source": [
    "def split_data_by_participant(df, train_size=0.8, val_size=0.1, random_state=42):\n",
    "    \"\"\"\n",
    "    Split data into train, validation, and test sets based on participant IDs.\n",
    "    \n",
    "    Args:\n",
    "        df: pandas DataFrame containing the data\n",
    "        train_size: proportion of participants for training (default 0.8)\n",
    "        val_size: proportion of participants for validation (default 0.1)\n",
    "        random_state: random seed for reproducibility\n",
    "        \n",
    "    Returns:\n",
    "        train_df, val_df, test_df: DataFrames containing the split data\n",
    "    \"\"\"\n",
    "    # Get unique participant IDs\n",
    "    unique_participants = df['Participant Number'].unique()\n",
    "    \n",
    "    # Shuffle participant IDs\n",
    "    np.random.seed(random_state)\n",
    "    np.random.shuffle(unique_participants)\n",
    "    \n",
    "    # Calculate number of participants for each split\n",
    "    n_participants = len(unique_participants)\n",
    "    n_train = int(n_participants * train_size)\n",
    "    n_val = int(n_participants * val_size)\n",
    "    \n",
    "    # Split participant IDs into train, val, test\n",
    "    train_participants = unique_participants[:n_train]\n",
    "    val_participants = unique_participants[n_train:n_train + n_val]\n",
    "    test_participants = unique_participants[n_train + n_val:]\n",
    "    \n",
    "    # Split data based on participant IDs\n",
    "    train_df = df[df['Participant Number'].isin(train_participants)]\n",
    "    val_df = df[df['Participant Number'].isin(val_participants)]\n",
    "    test_df = df[df['Participant Number'].isin(test_participants)]\n",
    "    \n",
    "    # Print split information\n",
    "    print(f\"Train set: {len(train_participants)} participants ({len(train_df)} samples)\")\n",
    "    print(f\"Validation set: {len(val_participants)} participants ({len(val_df)} samples)\")\n",
    "    print(f\"Test set: {len(test_participants)} participants ({len(test_df)} samples)\")\n",
    "    \n",
    "    return train_df, val_df, test_df"
   ]
  },
  {
   "cell_type": "code",
   "execution_count": 39,
   "metadata": {},
   "outputs": [
    {
     "name": "stdout",
     "output_type": "stream",
     "text": [
      "Train set: 128 participants (7244 samples)\n",
      "Validation set: 16 participants (883 samples)\n",
      "Test set: 16 participants (918 samples)\n"
     ]
    }
   ],
   "source": [
    "# Define splits\n",
    "split = (0.8, 0.1, 0.1)\n",
    "\n",
    "# Split the data by participant\n",
    "train_data, val_data, test_data = split_data_by_participant(full_df, train_size=0.8, val_size=0.1, random_state=38)"
   ]
  },
  {
   "cell_type": "code",
   "execution_count": 40,
   "metadata": {},
   "outputs": [
    {
     "name": "stdout",
     "output_type": "stream",
     "text": [
      "\n",
      "Label Distribution:\n",
      "\n",
      "Training Set:\n",
      "Output Label\n",
      "Not Depressed    68.5\n",
      "Depressed        31.5\n",
      "Name: proportion, dtype: float64 %\n",
      "\n",
      "Validation Set:\n",
      "Output Label\n",
      "Not Depressed    65.3\n",
      "Depressed        34.7\n",
      "Name: proportion, dtype: float64 %\n",
      "\n",
      "Test Set:\n",
      "Output Label\n",
      "Not Depressed    70.0\n",
      "Depressed        30.0\n",
      "Name: proportion, dtype: float64 %\n"
     ]
    },
    {
     "data": {
      "image/png": "[encoded data removed]",
      "text/plain": [
       "<Figure size 1500x500 with 3 Axes>"
      ]
     },
     "metadata": {},
     "output_type": "display_data"
    }
   ],
   "source": [
    "def visualize_label_distribution(train_df, val_df, test_df, label_col='Output Label'):\n",
    "    \"\"\"\n",
    "    Create a bar plot showing the distribution of labels in train, validation, and test sets.\n",
    "    \n",
    "    Args:\n",
    "        train_df, val_df, test_df: DataFrames containing the split data\n",
    "        label_col: name of the column containing labels (default 'PHQ8_Binary')\n",
    "    \"\"\"\n",
    "    # Calculate value counts for each dataset\n",
    "    train_counts = train_df[label_col].value_counts()\n",
    "    val_counts = val_df[label_col].value_counts()\n",
    "    test_counts = test_df[label_col].value_counts()\n",
    "    \n",
    "    # Create figure with subplots\n",
    "    fig, (ax1, ax2, ax3) = plt.subplots(1, 3, figsize=(15, 5))\n",
    "    \n",
    "    # Plot for training set\n",
    "    train_counts.plot(kind='bar', ax=ax1, title='Training Set')\n",
    "    ax1.set_xlabel('Label')\n",
    "    ax1.set_ylabel('Count')\n",
    "    for i, v in enumerate(train_counts):\n",
    "        ax1.text(i, v, str(v), ha='center', va='bottom')\n",
    "    \n",
    "    # Plot for validation set\n",
    "    val_counts.plot(kind='bar', ax=ax2, title='Validation Set')\n",
    "    ax2.set_xlabel('Label')\n",
    "    ax2.set_ylabel('Count')\n",
    "    for i, v in enumerate(val_counts):\n",
    "        ax2.text(i, v, str(v), ha='center', va='bottom')\n",
    "    \n",
    "    # Plot for test set\n",
    "    test_counts.plot(kind='bar', ax=ax3, title='Test Set')\n",
    "    ax3.set_xlabel('Label')\n",
    "    ax3.set_ylabel('Count')\n",
    "    for i, v in enumerate(test_counts):\n",
    "        ax3.text(i, v, str(v), ha='center', va='bottom')\n",
    "    \n",
    "    plt.tight_layout()\n",
    "    \n",
    "    # Print percentages\n",
    "    print(\"\\nLabel Distribution:\")\n",
    "    print(\"\\nTraining Set:\")\n",
    "    print(train_df[label_col].value_counts(normalize=True).round(3) * 100, \"%\")\n",
    "    print(\"\\nValidation Set:\")\n",
    "    print(val_df[label_col].value_counts(normalize=True).round(3) * 100, \"%\")\n",
    "    print(\"\\nTest Set:\")\n",
    "    print(test_df[label_col].value_counts(normalize=True).round(3) * 100, \"%\")\n",
    "\n",
    "# Call the visualization function\n",
    "visualize_label_distribution(train_data, val_data, test_data)"
   ]
  },
  {
   "cell_type": "markdown",
   "metadata": {},
   "source": [
    "#### Now we have our data"
   ]
  },
  {
   "cell_type": "code",
   "execution_count": 46,
   "metadata": {},
   "outputs": [],
   "source": [
    "# save the dataframes\n",
    "train_data.to_csv(\"train_data\")\n",
    "val_data.to_csv(\"val_data\")\n",
    "test_data.to_csv(\"test_data\")"
   ]
  },
  {
   "cell_type": "code",
   "execution_count": 2,
   "metadata": {},
   "outputs": [],
   "source": [
    "# load in dataframes\n",
    "train_data = pd.read_csv(\"train_data\")\n",
    "val_data = pd.read_csv(\"val_data\")\n",
    "test_data = pd.read_csv(\"test_data\")\n",
    "\n",
    "# drop the index column\n",
    "train_data.drop(columns=[\"Unnamed: 0\"], inplace=True)\n",
    "val_data.drop(columns=[\"Unnamed: 0\"], inplace=True)\n",
    "test_data.drop(columns=[\"Unnamed: 0\"], inplace=True)"
   ]
  },
  {
   "cell_type": "code",
   "execution_count": 3,
   "metadata": {},
   "outputs": [
    {
     "data": {
      "text/html": [
       "<div>\n",
       "<style scoped>\n",
       "    .dataframe tbody tr th:only-of-type {\n",
       "        vertical-align: middle;\n",
       "    }\n",
       "\n",
       "    .dataframe tbody tr th {\n",
       "        vertical-align: top;\n",
       "    }\n",
       "\n",
       "    .dataframe thead th {\n",
       "        text-align: right;\n",
       "    }\n",
       "</style>\n",
       "<table border=\"1\" class=\"dataframe\">\n",
       "  <thead>\n",
       "    <tr style=\"text-align: right;\">\n",
       "      <th></th>\n",
       "      <th>Participant Number</th>\n",
       "      <th>Audio Path</th>\n",
       "      <th>Output Label</th>\n",
       "    </tr>\n",
       "  </thead>\n",
       "  <tbody>\n",
       "    <tr>\n",
       "      <th>0</th>\n",
       "      <td>304</td>\n",
       "      <td>segments/P304_no_silence_segment_1.mp3</td>\n",
       "      <td>Not Depressed</td>\n",
       "    </tr>\n",
       "    <tr>\n",
       "      <th>1</th>\n",
       "      <td>304</td>\n",
       "      <td>segments/P304_no_silence_segment_2.mp3</td>\n",
       "      <td>Not Depressed</td>\n",
       "    </tr>\n",
       "    <tr>\n",
       "      <th>2</th>\n",
       "      <td>304</td>\n",
       "      <td>segments/P304_no_silence_segment_3.mp3</td>\n",
       "      <td>Not Depressed</td>\n",
       "    </tr>\n",
       "    <tr>\n",
       "      <th>3</th>\n",
       "      <td>304</td>\n",
       "      <td>segments/P304_no_silence_segment_4.mp3</td>\n",
       "      <td>Not Depressed</td>\n",
       "    </tr>\n",
       "    <tr>\n",
       "      <th>4</th>\n",
       "      <td>304</td>\n",
       "      <td>segments/P304_no_silence_segment_5.mp3</td>\n",
       "      <td>Not Depressed</td>\n",
       "    </tr>\n",
       "  </tbody>\n",
       "</table>\n",
       "</div>"
      ],
      "text/plain": [
       "   Participant Number                              Audio Path   Output Label\n",
       "0                 304  segments/P304_no_silence_segment_1.mp3  Not Depressed\n",
       "1                 304  segments/P304_no_silence_segment_2.mp3  Not Depressed\n",
       "2                 304  segments/P304_no_silence_segment_3.mp3  Not Depressed\n",
       "3                 304  segments/P304_no_silence_segment_4.mp3  Not Depressed\n",
       "4                 304  segments/P304_no_silence_segment_5.mp3  Not Depressed"
      ]
     },
     "execution_count": 3,
     "metadata": {},
     "output_type": "execute_result"
    }
   ],
   "source": [
    "train_data.head()"
   ]
  }
 ],
 "metadata": {
  "kernelspec": {
   "display_name": "base",
   "language": "python",
   "name": "python3"
  },
  "language_info": {
   "codemirror_mode": {
    "name": "ipython",
    "version": 3
   },
   "file_extension": ".py",
   "mimetype": "text/x-python",
   "name": "python",
   "nbconvert_exporter": "python",
   "pygments_lexer": "ipython3",
   "version": "3.11.5"
  }
 },
 "nbformat": 4,
 "nbformat_minor": 2
}
